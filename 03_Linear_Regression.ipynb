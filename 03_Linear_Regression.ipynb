{
  "nbformat": 4,
  "nbformat_minor": 0,
  "metadata": {
    "colab": {
      "name": "Linear_Regression.ipynb",
      "provenance": [],
      "authorship_tag": "ABX9TyO5yI1Rf4hWxkZa/JuL+fEI",
      "include_colab_link": true
    },
    "kernelspec": {
      "name": "python3",
      "display_name": "Python 3"
    }
  },
  "cells": [
    {
      "cell_type": "markdown",
      "metadata": {
        "id": "view-in-github",
        "colab_type": "text"
      },
      "source": [
        "<a href=\"https://colab.research.google.com/github/BarryLiu-97/Pytorch-Tutorial/blob/master/Linear_Regression.ipynb\" target=\"_parent\"><img src=\"https://colab.research.google.com/assets/colab-badge.svg\" alt=\"Open In Colab\"/></a>"
      ]
    },
    {
      "cell_type": "code",
      "metadata": {
        "id": "9t4OEUO4DRBn",
        "colab_type": "code",
        "colab": {}
      },
      "source": [
        "import torch"
      ],
      "execution_count": null,
      "outputs": []
    },
    {
      "cell_type": "code",
      "metadata": {
        "id": "5zN8rJHmF0h2",
        "colab_type": "code",
        "colab": {}
      },
      "source": [
        "x_data = torch.Tensor([[1.0], [2.0], [3.0]])\n",
        "y_data = torch.Tensor([[2.0], [4.0], [6.0]])"
      ],
      "execution_count": null,
      "outputs": []
    },
    {
      "cell_type": "code",
      "metadata": {
        "id": "d_qXpIgLIXAk",
        "colab_type": "code",
        "colab": {
          "base_uri": "https://localhost:8080/",
          "height": 50
        },
        "outputId": "1bbe5220-de68-430e-b204-d66a6c511f3d"
      },
      "source": [
        "class LinearModel(torch.nn.Module):\n",
        "  def __init__(self):\n",
        "    '''构造函数'''\n",
        "    super(LinearModel, self).__init__()   #调用父类的init，必须有\n",
        "    self.linear = torch.nn.Linear(1, 1)  #构造一个对象\n",
        "\n",
        "  def forward(self, x):\n",
        "    '''前馈，覆盖了父类的forward()'''\n",
        "    y_pred = self.linear(x)\n",
        "    return y_pred\n",
        "\n",
        "#只要是构建计算图，就应该是继承自Module这个模块\n",
        "model = LinearModel()  \n",
        "criterion = torch.nn.MSELoss(size_average=False)  #设置为False,Loss就不求1/N\n",
        "#################################################################################################################\n",
        "#还可以尝试Adagrad,Adam,Adamax,ASGD,LBFGS,RMSprop,Rprop,SGD\n",
        "#################################################################################################################\n",
        "optimizer = torch.optim.SGD(model.parameters(), lr=0.01)   #model.parameters()可以把需要训练的参数都收集起来"
      ],
      "execution_count": null,
      "outputs": [
        {
          "output_type": "stream",
          "text": [
            "/usr/local/lib/python3.6/dist-packages/torch/nn/_reduction.py:43: UserWarning: size_average and reduce args will be deprecated, please use reduction='sum' instead.\n",
            "  warnings.warn(warning.format(ret))\n"
          ],
          "name": "stderr"
        }
      ]
    },
    {
      "cell_type": "code",
      "metadata": {
        "id": "jYiXnrriYCcd",
        "colab_type": "code",
        "colab": {}
      },
      "source": [
        "for epoch in range(100):\n",
        "  y_pred = model(x_data)\n",
        "  loss = criterion(y_pred, y_data)\n",
        "  print(epoch, loss)\n",
        "\n",
        "  optimizer.zero_grad()  #梯度归零，否则会累加\n",
        "  loss.backward()\n",
        "  optimizer.step() #更新权重"
      ],
      "execution_count": null,
      "outputs": []
    },
    {
      "cell_type": "code",
      "metadata": {
        "id": "dGYSj0B7Y9XO",
        "colab_type": "code",
        "colab": {
          "base_uri": "https://localhost:8080/",
          "height": 67
        },
        "outputId": "d92dd954-10e3-4a9f-a4eb-7db12cda47b8"
      },
      "source": [
        "print('w=', model.linear.weight.item())  #weight是一个矩阵，虽然只有一个值，故用item化为标量\n",
        "print('b=', model.linear.bias.item())\n",
        "\n",
        "#Test Model\n",
        "x_test = torch.Tensor([[4.0]])\n",
        "y_test = model(x_test)\n",
        "print('y_pred=',y_test.data) #y_test是一个张量"
      ],
      "execution_count": null,
      "outputs": [
        {
          "output_type": "stream",
          "text": [
            "w= 1.9898111820220947\n",
            "b= 0.02316172979772091\n",
            "y_pred= tensor([[7.9824]])\n"
          ],
          "name": "stdout"
        }
      ]
    }
  ]
}
