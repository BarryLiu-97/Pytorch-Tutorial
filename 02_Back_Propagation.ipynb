{
  "nbformat": 4,
  "nbformat_minor": 0,
  "metadata": {
    "colab": {
      "name": "Back_Propagation.ipynb",
      "provenance": [],
      "authorship_tag": "ABX9TyN7nl7CwpTkfiGxAL4LqpXW",
      "include_colab_link": true
    },
    "kernelspec": {
      "name": "python3",
      "display_name": "Python 3"
    }
  },
  "cells": [
    {
      "cell_type": "markdown",
      "metadata": {
        "id": "view-in-github",
        "colab_type": "text"
      },
      "source": [
        "<a href=\"https://colab.research.google.com/github/BarryLiu-97/Pytorch-Tutorial/blob/master/Back_Propagation.ipynb\" target=\"_parent\"><img src=\"https://colab.research.google.com/assets/colab-badge.svg\" alt=\"Open In Colab\"/></a>"
      ]
    },
    {
      "cell_type": "code",
      "metadata": {
        "id": "R-Uh3n8sXjsB",
        "colab_type": "code",
        "colab": {}
      },
      "source": [
        "import torch"
      ],
      "execution_count": 8,
      "outputs": []
    },
    {
      "cell_type": "code",
      "metadata": {
        "id": "7eko3esEX-Q2",
        "colab_type": "code",
        "colab": {}
      },
      "source": [
        "x_data = [1.0, 2.0, 3.0]\n",
        "y_data = [2.0, 4.0, 6.0]"
      ],
      "execution_count": 9,
      "outputs": []
    },
    {
      "cell_type": "code",
      "metadata": {
        "id": "ToxVRfsvYElk",
        "colab_type": "code",
        "colab": {}
      },
      "source": [
        "w = torch.Tensor([1.0])\n",
        "w.requires_grad = True"
      ],
      "execution_count": 10,
      "outputs": []
    },
    {
      "cell_type": "code",
      "metadata": {
        "id": "UaMdImMKYMYG",
        "colab_type": "code",
        "colab": {}
      },
      "source": [
        "def forward(x):\n",
        "  return x * w\n",
        "\n",
        "def loss(x, y):\n",
        "  y_pred = forward(x)\n",
        "  return (y_pred - y) ** 2"
      ],
      "execution_count": 11,
      "outputs": []
    },
    {
      "cell_type": "code",
      "metadata": {
        "id": "vU5FsseqYa_V",
        "colab_type": "code",
        "colab": {}
      },
      "source": [
        "print('predict (before training', 4, forward(4).item())     #item()方法江数值取出并化为标量\n",
        "\n",
        "for epoch in range(100):\n",
        "  for x, y in zip(x_data, y_data):\n",
        "    l = loss(x, y)\n",
        "    l.backward()\n",
        "    print('\\ngrad:', x, y, w.grad.item())\n",
        "    w.data = w.data - 0.01 * w.grad.data\n",
        "    \n",
        "    w.grad.data.zero_()\n",
        "\n",
        "  print('progress:', epoch, l.item())\n",
        "\n",
        "print('predict (after training', 4, forward(4).item())\n",
        "\n"
      ],
      "execution_count": null,
      "outputs": []
    }
  ]
}
