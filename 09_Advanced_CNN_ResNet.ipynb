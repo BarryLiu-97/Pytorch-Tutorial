{
  "nbformat": 4,
  "nbformat_minor": 0,
  "metadata": {
    "colab": {
      "name": "09_Advanced_CNN_ResNet.ipynb",
      "provenance": [],
      "collapsed_sections": [],
      "include_colab_link": true
    },
    "kernelspec": {
      "name": "python3",
      "display_name": "Python 3"
    },
    "accelerator": "GPU"
  },
  "cells": [
    {
      "cell_type": "markdown",
      "metadata": {
        "id": "view-in-github",
        "colab_type": "text"
      },
      "source": [
        "<a href=\"https://colab.research.google.com/github/BarryLiu-97/Pytorch-Tutorial/blob/master/09_Advanced_CNN_ResNet.ipynb\" target=\"_parent\"><img src=\"https://colab.research.google.com/assets/colab-badge.svg\" alt=\"Open In Colab\"/></a>"
      ]
    },
    {
      "cell_type": "code",
      "metadata": {
        "id": "pI-Lcl-8c5rt",
        "colab_type": "code",
        "colab": {}
      },
      "source": [
        "import torch\n",
        "from torch import nn\n",
        "from torchvision import transforms, datasets\n",
        "from torch.utils.data import DataLoader\n",
        "import torch.nn.functional as F\n",
        "import torch.optim as optim\n",
        "import time"
      ],
      "execution_count": 2,
      "outputs": []
    },
    {
      "cell_type": "code",
      "metadata": {
        "id": "p3nRw31TdVCe",
        "colab_type": "code",
        "colab": {}
      },
      "source": [
        "batch_size = 64\n",
        "transform = transforms.Compose([\n",
        "  transforms.ToTensor(),              #将数据转换为channel×width×height格式，为了更高效地进行运算\n",
        "  transforms.Normalize((0.1307, ), (0.3081, ))  #均值和标准差，用于数据标准化，这是对MNIST进行计算后得到的结果，已经算好了\n",
        "])\n",
        "\n",
        "train_dataset = datasets.MNIST(root='../dataset/mnist',\n",
        "                train=True, download=True,\n",
        "                transform = transform)\n",
        "train_loader = DataLoader(train_dataset, shuffle=True, batch_size=batch_size)\n",
        "\n",
        "test_dataset = datasets.MNIST(root='../dataset/mnist',\n",
        "                train=False, download=True,\n",
        "                transform = transform)\n",
        "test_loader = DataLoader(test_dataset, shuffle=False, batch_size=batch_size)"
      ],
      "execution_count": 3,
      "outputs": []
    },
    {
      "cell_type": "code",
      "metadata": {
        "id": "Xsmi8ioEdXKU",
        "colab_type": "code",
        "colab": {}
      },
      "source": [
        "class ResidualBlock(nn.Module):\n",
        "  def __init__(self, channels):\n",
        "    super(ResidualBlock, self).__init__()\n",
        "    self.channels = channels\n",
        "    self.conv1 = nn.Conv2d(channels, channels, kernel_size=3, padding=1)\n",
        "    self.conv2 = nn.Conv2d(channels, channels, kernel_size=3, padding=1)\n",
        "\n",
        "  def forward(self, x):\n",
        "    y = F.relu(self.conv1(x))\n",
        "    y = self.conv2(y)\n",
        "    return F.relu(x+y)  # 残差块先求和再激活,所以残差块的输入输出同维度 是求和不是拼接"
      ],
      "execution_count": 10,
      "outputs": []
    },
    {
      "cell_type": "code",
      "metadata": {
        "id": "00e6Sy737mDm",
        "colab_type": "code",
        "colab": {}
      },
      "source": [
        "class Net(nn.Module):\n",
        "  def __init__(self):\n",
        "    super(Net, self).__init__()\n",
        "    self.conv1 = nn.Conv2d(1 ,16, kernel_size=5)\n",
        "    self.conv2 = nn.Conv2d(16, 32, kernel_size=5)\n",
        "    self.mp = nn.MaxPool2d(2)\n",
        "\n",
        "    self.rblock1 = ResidualBlock(16)\n",
        "    self.rblock2 = ResidualBlock(32)\n",
        "\n",
        "    self.fc = nn.Linear(512,10)\n",
        "\n",
        "  def forward(self, x):\n",
        "    in_size = x.size(0)\n",
        "    x = self.mp(F.relu(self.conv1(x)))\n",
        "    x = self.rblock1(x)\n",
        "    x = self.mp(F.relu(self.conv2(x)))\n",
        "    x = self.rblock2(x)\n",
        "    x = x.view(in_size, -1)\n",
        "    x = self.fc(x)\n",
        "    return x"
      ],
      "execution_count": 11,
      "outputs": []
    },
    {
      "cell_type": "code",
      "metadata": {
        "id": "RYvCgoEO_GuD",
        "colab_type": "code",
        "colab": {
          "base_uri": "https://localhost:8080/",
          "height": 252
        },
        "outputId": "263df55f-966d-418f-af57-18ae18296b3a"
      },
      "source": [
        "model = Net()\n",
        "criterion = torch.nn.CrossEntropyLoss()\n",
        "optimizer = optim.SGD(model.parameters(), lr=0.01, momentum=0.5)  #冲量值设置为0.5，优化训练过程\n",
        "device = torch.device(\"cuda:0\" if torch.cuda.is_available() else \"cpu\") # 若当前cuda是可行的，使用第一个可见的设备(即GPU)\n",
        "model.to(device) # 参数、缓存等，所有的模块放入cuda，使用GPU"
      ],
      "execution_count": 12,
      "outputs": [
        {
          "output_type": "execute_result",
          "data": {
            "text/plain": [
              "Net(\n",
              "  (conv1): Conv2d(1, 16, kernel_size=(5, 5), stride=(1, 1))\n",
              "  (conv2): Conv2d(16, 32, kernel_size=(5, 5), stride=(1, 1))\n",
              "  (mp): MaxPool2d(kernel_size=2, stride=2, padding=0, dilation=1, ceil_mode=False)\n",
              "  (rblock1): ResidualBlock(\n",
              "    (conv1): Conv2d(16, 16, kernel_size=(3, 3), stride=(1, 1), padding=(1, 1))\n",
              "    (conv2): Conv2d(16, 16, kernel_size=(3, 3), stride=(1, 1), padding=(1, 1))\n",
              "  )\n",
              "  (rblock2): ResidualBlock(\n",
              "    (conv1): Conv2d(32, 32, kernel_size=(3, 3), stride=(1, 1), padding=(1, 1))\n",
              "    (conv2): Conv2d(32, 32, kernel_size=(3, 3), stride=(1, 1), padding=(1, 1))\n",
              "  )\n",
              "  (fc): Linear(in_features=512, out_features=10, bias=True)\n",
              ")"
            ]
          },
          "metadata": {
            "tags": []
          },
          "execution_count": 12
        }
      ]
    },
    {
      "cell_type": "code",
      "metadata": {
        "id": "u669XW6f_J0s",
        "colab_type": "code",
        "colab": {}
      },
      "source": [
        "def train(epoch):\n",
        "  running_loss = 0.\n",
        "  for batch_idx, data in enumerate(train_loader, 0):\n",
        "    inputs, target = data\n",
        "    inputs, target = inputs.to(device), target.to(device)  # 转移到cuda，且在同一块显卡上\n",
        "    optimizer.zero_grad()\n",
        "\n",
        "    # forward + backard + update\n",
        "    outputs = model(inputs)\n",
        "    loss = criterion(outputs, target)\n",
        "    loss.backward()\n",
        "    optimizer.step()\n",
        "\n",
        "    running_loss += loss.item()\n",
        "    if batch_idx % 300 == 299:\n",
        "      print('[%d, %5d] loss: %.3f' % (epoch+1, batch_idx + 1, running_loss / 2000))\n",
        "      running_loss = 0.0"
      ],
      "execution_count": 13,
      "outputs": []
    },
    {
      "cell_type": "code",
      "metadata": {
        "id": "tsy_fl5V_MBI",
        "colab_type": "code",
        "colab": {}
      },
      "source": [
        "def test():\n",
        "  correct = 0\n",
        "  total = 0\n",
        "  with torch.no_grad():\n",
        "    for data in test_loader:\n",
        "      inputs, target = data\n",
        "      inputs, target = inputs.to(device), target.to(device)\n",
        "      outputs = model(inputs)\n",
        "      _, predicted = torch.max(outputs.data, dim=1)\n",
        "      total += target.size(0)\n",
        "      correct += (predicted == target).sum().item()\n",
        "  print('Accuracy on test set: %d %% [%d/%d]' % (100*correct / total, correct, total))"
      ],
      "execution_count": 14,
      "outputs": []
    },
    {
      "cell_type": "code",
      "metadata": {
        "id": "DvUEGBZl_OXQ",
        "colab_type": "code",
        "colab": {
          "base_uri": "https://localhost:8080/",
          "height": 706
        },
        "outputId": "4cb7f25d-c23e-4e9b-e88a-26d725ec7ea3"
      },
      "source": [
        "start = time.time()\n",
        "for epoch in range(10):\n",
        "  train(epoch)\n",
        "  test()\n",
        "end = time.time()\n",
        "print(str(end-start) + 's')"
      ],
      "execution_count": 15,
      "outputs": [
        {
          "output_type": "stream",
          "text": [
            "[1,   300] loss: 0.077\n",
            "[1,   600] loss: 0.024\n",
            "[1,   900] loss: 0.017\n",
            "Accuracy on test set: 97 % [9703/10000]\n",
            "[2,   300] loss: 0.013\n",
            "[2,   600] loss: 0.012\n",
            "[2,   900] loss: 0.012\n",
            "Accuracy on test set: 97 % [9768/10000]\n",
            "[3,   300] loss: 0.009\n",
            "[3,   600] loss: 0.009\n",
            "[3,   900] loss: 0.009\n",
            "Accuracy on test set: 98 % [9819/10000]\n",
            "[4,   300] loss: 0.007\n",
            "[4,   600] loss: 0.007\n",
            "[4,   900] loss: 0.007\n",
            "Accuracy on test set: 98 % [9817/10000]\n",
            "[5,   300] loss: 0.006\n",
            "[5,   600] loss: 0.006\n",
            "[5,   900] loss: 0.006\n",
            "Accuracy on test set: 98 % [9876/10000]\n",
            "[6,   300] loss: 0.005\n",
            "[6,   600] loss: 0.006\n",
            "[6,   900] loss: 0.005\n",
            "Accuracy on test set: 98 % [9868/10000]\n",
            "[7,   300] loss: 0.005\n",
            "[7,   600] loss: 0.005\n",
            "[7,   900] loss: 0.004\n",
            "Accuracy on test set: 98 % [9875/10000]\n",
            "[8,   300] loss: 0.004\n",
            "[8,   600] loss: 0.004\n",
            "[8,   900] loss: 0.004\n",
            "Accuracy on test set: 99 % [9902/10000]\n",
            "[9,   300] loss: 0.003\n",
            "[9,   600] loss: 0.004\n",
            "[9,   900] loss: 0.004\n",
            "Accuracy on test set: 98 % [9896/10000]\n",
            "[10,   300] loss: 0.003\n",
            "[10,   600] loss: 0.003\n",
            "[10,   900] loss: 0.004\n",
            "Accuracy on test set: 99 % [9900/10000]\n",
            "247.53226375579834s\n"
          ],
          "name": "stdout"
        }
      ]
    }
  ]
}