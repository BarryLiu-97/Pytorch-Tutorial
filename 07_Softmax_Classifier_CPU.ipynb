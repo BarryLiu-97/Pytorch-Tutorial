{
  "nbformat": 4,
  "nbformat_minor": 0,
  "metadata": {
    "colab": {
      "name": "07_Softmax_Classifier_CPU.ipynb",
      "provenance": [],
      "authorship_tag": "ABX9TyOYL2bLPVLhNKSg59Nq0UTQ",
      "include_colab_link": true
    },
    "kernelspec": {
      "name": "python3",
      "display_name": "Python 3"
    },
    "accelerator": "GPU"
  },
  "cells": [
    {
      "cell_type": "markdown",
      "metadata": {
        "id": "view-in-github",
        "colab_type": "text"
      },
      "source": [
        "<a href=\"https://colab.research.google.com/github/BarryLiu-97/Pytorch-Tutorial/blob/master/07_Softmax_Classifier_CPU.ipynb\" target=\"_parent\"><img src=\"https://colab.research.google.com/assets/colab-badge.svg\" alt=\"Open In Colab\"/></a>"
      ]
    },
    {
      "cell_type": "code",
      "metadata": {
        "id": "wURvz_fO1vB9",
        "colab_type": "code",
        "colab": {}
      },
      "source": [
        "import torch\n",
        "from torchvision import transforms, datasets\n",
        "from torch.utils.data import DataLoader\n",
        "import torch.nn.functional as F\n",
        "import torch.optim as optim\n",
        "import time"
      ],
      "execution_count": null,
      "outputs": []
    },
    {
      "cell_type": "code",
      "metadata": {
        "id": "1awanJDC2KeF",
        "colab_type": "code",
        "colab": {}
      },
      "source": [
        "batch_size = 64\n",
        "transform = transforms.Compose([\n",
        "  transforms.ToTensor(),              #ToTensor()将数据转换为channel×width×height格式，为了更高效地进行运算\n",
        "  transforms.Normalize((0.1307, ), (0.3081, ))  #均值和标准差，用于数据标准化，这是对MNIST进行计算后得到的结果，已经算好了\n",
        "])\n",
        "\n",
        "train_dataset = datasets.MNIST(root='../dataset/mnist',\n",
        "                train=True, download=True,\n",
        "                transform = transform)\n",
        "train_loader = DataLoader(train_dataset, shuffle=True, batch_size=batch_size)\n",
        "\n",
        "test_dataset = datasets.MNIST(root='../dataset/mnist',\n",
        "                train=False, download=True,\n",
        "                transform = transform)\n",
        "test_loader = DataLoader(test_dataset, shuffle=False, batch_size=batch_size)"
      ],
      "execution_count": null,
      "outputs": []
    },
    {
      "cell_type": "code",
      "metadata": {
        "id": "_Yqrhr8Z5bc8",
        "colab_type": "code",
        "colab": {}
      },
      "source": [
        "class Net(torch.nn.Module):\n",
        "  def __init__(self):\n",
        "    super(Net, self).__init__()\n",
        "    self.l1 = torch.nn.Linear(784, 512)\n",
        "    self.l2 = torch.nn.Linear(512, 256)\n",
        "    self.l3 = torch.nn.Linear(256, 128)\n",
        "    self.l4 = torch.nn.Linear(128, 64)\n",
        "    self.l5 = torch.nn.Linear(64, 10)\n",
        "\n",
        "  def forward(self, x):\n",
        "    x = x.view(-1, 784)   \n",
        "    #数据本身是(N×1×28×28)的Tensor。全来凝结神经网络要求输入是一个矩阵，而不是三维的张量。\n",
        "    #view方法相当于reshape，28*28等于784，将每个图片的数据一行一行拼接，-1表示根据第二个人为设置的维度，自动计算第一个维度的大小\n",
        "    x = F.elu(self.l1(x))\n",
        "    x = F.elu(self.l2(x))\n",
        "    x = F.elu(self.l3(x))\n",
        "    x = F.elu(self.l4(x))\n",
        "    return self.l5(x)  #最后一层不做激活\n",
        "\n",
        "model = Net()"
      ],
      "execution_count": null,
      "outputs": []
    },
    {
      "cell_type": "code",
      "metadata": {
        "id": "iwVhqumV6lq2",
        "colab_type": "code",
        "colab": {}
      },
      "source": [
        "criterion = torch.nn.CrossEntropyLoss()\n",
        "optimizer = optim.SGD(model.parameters(), lr=0.01, momentum=0.5)  #冲量值设置为0.5，优化训练过程"
      ],
      "execution_count": null,
      "outputs": []
    },
    {
      "cell_type": "code",
      "metadata": {
        "id": "WYV2GDPp7FND",
        "colab_type": "code",
        "colab": {}
      },
      "source": [
        "def train(epoch):\n",
        "  running_loss = 0.0\n",
        "  for batch_idx, data in enumerate(train_loader, 0):\n",
        "    inputs, target = data\n",
        "    optimizer.zero_grad()\n",
        "    # inputs = inputs.cuda()\n",
        "    # target = target.cuda()\n",
        "    #forward + backward + update\n",
        "    outputs = model(inputs)\n",
        "    loss = criterion(outputs, target) \n",
        "    loss.backward()\n",
        "    optimizer.step()\n",
        "\n",
        "    running_loss += loss.item()\n",
        "    if batch_idx % 300 ==299:  \n",
        "      #300次迭代输出一次loss\n",
        "      # print('[%d, %5d] loss:%.3f' % (epoch + 1, batch_idx + 1, running_loss / 300)) \n",
        "      running_loss= 0.0"
      ],
      "execution_count": null,
      "outputs": []
    },
    {
      "cell_type": "code",
      "metadata": {
        "id": "sFsPjv4C7rKs",
        "colab_type": "code",
        "colab": {}
      },
      "source": [
        "def test():\n",
        "  correct = 0\n",
        "  total = 0\n",
        "  with torch.no_grad():#该缩进块中的代码不会计算梯度\n",
        "    for data in test_loader:\n",
        "      images, labels = data\n",
        "      # images = images.cuda() \n",
        "      # labels = labels.cuda()\n",
        "      outputs = model(images)\n",
        "      _, predicted = torch.max(outputs.data, dim=1) #输出为列数为10，代表十个类别，取出每一行数值最大地那一列的下标，即获得该样本的类别，带下为(N×1)\n",
        "      # predicted = predicted.cuda() \n",
        "      total += labels.size(0)   #取出的是N\n",
        "      correct += (predicted == labels).sum().item()   #张量之间的比较运算\n",
        "  print('Acc on test set:%d %%' % (100* correct / total))"
      ],
      "execution_count": null,
      "outputs": []
    },
    {
      "cell_type": "code",
      "metadata": {
        "id": "ParPxGB6AGut",
        "colab_type": "code",
        "colab": {}
      },
      "source": [
        "if __name__ == '__main__':\n",
        "  start = time.time()\n",
        "  for epoch in range(10):\n",
        "    train(epoch)\n",
        "    test()\n",
        "  end = time.time()\n",
        "  print(str(end-start) + 's')"
      ],
      "execution_count": null,
      "outputs": []
    }
  ]
}