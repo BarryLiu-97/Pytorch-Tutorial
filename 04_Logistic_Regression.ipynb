{
  "nbformat": 4,
  "nbformat_minor": 0,
  "metadata": {
    "colab": {
      "name": "Logistic_Regression.ipynb",
      "provenance": [],
      "authorship_tag": "ABX9TyPCEyzB0uWHAg7lo8AyKIhj",
      "include_colab_link": true
    },
    "kernelspec": {
      "name": "python3",
      "display_name": "Python 3"
    }
  },
  "cells": [
    {
      "cell_type": "markdown",
      "metadata": {
        "id": "view-in-github",
        "colab_type": "text"
      },
      "source": [
        "<a href=\"https://colab.research.google.com/github/BarryLiu-97/Pytorch-Tutorial/blob/master/04_Logistic_Regression.ipynb\" target=\"_parent\"><img src=\"https://colab.research.google.com/assets/colab-badge.svg\" alt=\"Open In Colab\"/></a>"
      ]
    },
    {
      "cell_type": "markdown",
      "metadata": {
        "id": "9Qvbf0oE9g1e",
        "colab_type": "text"
      },
      "source": [
        "# 逻辑回归做分类任务\n",
        "## 网络框架设计一般步骤\n",
        "- 数据准备\n",
        "- 用类设计模型\n",
        "- 选定损失函数和优化器\n",
        "- 训练循环\n"
      ]
    },
    {
      "cell_type": "code",
      "metadata": {
        "id": "Ay_-Ru4q9fwc",
        "colab_type": "code",
        "colab": {}
      },
      "source": [
        "import torch"
      ],
      "execution_count": null,
      "outputs": []
    },
    {
      "cell_type": "code",
      "metadata": {
        "id": "mJ0-JffiGv7t",
        "colab_type": "code",
        "colab": {}
      },
      "source": [
        "x_data = torch.Tensor([[1.0],[2.0],[3.0]])\n",
        "y_data = torch.Tensor([[0],[0],[1]])"
      ],
      "execution_count": null,
      "outputs": []
    },
    {
      "cell_type": "code",
      "metadata": {
        "id": "UoL-dBhx-t_F",
        "colab_type": "code",
        "colab": {}
      },
      "source": [
        "class LogisticRegressionModel(torch.nn.Module):\n",
        "  def __init__(self):\n",
        "    super(LogisticRegressionModel, self).__init__()\n",
        "    self.linear = torch.nn.Linear(1,1)   #(输入维度，输出维度)\n",
        "\n",
        "  def forward(self, x):\n",
        "    y_pred = torch.sigmoid(self.linear(x))\n",
        "    return y_pred"
      ],
      "execution_count": null,
      "outputs": []
    },
    {
      "cell_type": "code",
      "metadata": {
        "id": "aczhNOqkHLgD",
        "colab_type": "code",
        "colab": {
          "base_uri": "https://localhost:8080/",
          "height": 50
        },
        "outputId": "1c90c670-12c7-4814-df8a-2f2d85d1cbf8"
      },
      "source": [
        "model = LogisticRegressionModel()\n",
        "\n",
        "criterion = torch.nn.BCELoss(size_average=False)\n",
        "optimizer = torch.optim.SGD(model.parameters(), lr=0.01)"
      ],
      "execution_count": null,
      "outputs": [
        {
          "output_type": "stream",
          "text": [
            "/usr/local/lib/python3.6/dist-packages/torch/nn/_reduction.py:43: UserWarning: size_average and reduce args will be deprecated, please use reduction='sum' instead.\n",
            "  warnings.warn(warning.format(ret))\n"
          ],
          "name": "stderr"
        }
      ]
    },
    {
      "cell_type": "code",
      "metadata": {
        "id": "q9YMXqSFH8nS",
        "colab_type": "code",
        "colab": {}
      },
      "source": [
        "for epoch in range(1000):\n",
        "  y_pred = model(x_data)\n",
        "  loss = criterion(y_pred, y_data)\n",
        "  print(epoch, loss.item())     #注意，loss本身是tensor形式\n",
        "\n",
        "  optimizer.zero_grad()\n",
        "  loss.backward()\n",
        "  optimizer.step()"
      ],
      "execution_count": null,
      "outputs": []
    },
    {
      "cell_type": "code",
      "metadata": {
        "id": "cU6j5MAVJKJW",
        "colab_type": "code",
        "colab": {
          "base_uri": "https://localhost:8080/",
          "height": 279
        },
        "outputId": "b384db70-c3c7-4cc9-c2db-ee63e4db819e"
      },
      "source": [
        "import numpy as np\n",
        "import matplotlib.pyplot as plt\n",
        "\n",
        "\n",
        "x = np.linspace(0, 10, 200)    #每周学习时间0~10小时，采200个点\n",
        "x_t = torch.Tensor(x).view((200,1)) #变为tensor，view方法相当于numpy中的reshape   \n",
        "y_t = model(x_t)\n",
        "y = y_t.data.numpy()        #化为numpy数组\n",
        "\n",
        "plt.plot(x, y)\n",
        "plt.plot([0,10], [0.5,0.5], c='r')\n",
        "plt.xlabel('Hours')\n",
        "plt.ylabel('Probability of Pass')\n",
        "plt.grid()\n",
        "plt.show()"
      ],
      "execution_count": null,
      "outputs": [
        {
          "output_type": "display_data",
          "data": {
            "image/png": "[encoded data removed]",
            "text/plain": [
              "<Figure size 432x288 with 1 Axes>"
            ]
          },
          "metadata": {
            "tags": [],
            "needs_background": "light"
          }
        }
      ]
    },
    {
      "cell_type": "markdown",
      "metadata": {
        "id": "CQDzBxQlK8cS",
        "colab_type": "text"
      },
      "source": [
        "发现和logistic函数很像，那是因为x只是做了线性变换得到了y，即y=ax+b。  图中2.5小时及格率为0.5，符合数据特征"
      ]
    }
  ]
}