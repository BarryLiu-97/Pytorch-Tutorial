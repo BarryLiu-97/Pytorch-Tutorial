{
  "nbformat": 4,
  "nbformat_minor": 0,
  "metadata": {
    "colab": {
      "name": "07_Softmax_Classifier_GPU.ipynb",
      "provenance": [],
      "authorship_tag": "ABX9TyNiMSuGAFjwiuqo6fdeqLGu",
      "include_colab_link": true
    },
    "kernelspec": {
      "name": "python3",
      "display_name": "Python 3"
    },
    "accelerator": "GPU"
  },
  "cells": [
    {
      "cell_type": "markdown",
      "metadata": {
        "id": "view-in-github",
        "colab_type": "text"
      },
      "source": [
        "<a href=\"https://colab.research.google.com/github/BarryLiu-97/Pytorch-Tutorial/blob/master/07_Softmax_Classifier_GPU.ipynb\" target=\"_parent\"><img src=\"https://colab.research.google.com/assets/colab-badge.svg\" alt=\"Open In Colab\"/></a>"
      ]
    },
    {
      "cell_type": "code",
      "metadata": {
        "id": "wURvz_fO1vB9",
        "colab_type": "code",
        "colab": {}
      },
      "source": [
        "import torch\n",
        "from torchvision import transforms, datasets\n",
        "from torch.utils.data import DataLoader\n",
        "import torch.nn.functional as F\n",
        "import torch.optim as optim\n",
        "import time"
      ],
      "execution_count": 36,
      "outputs": []
    },
    {
      "cell_type": "code",
      "metadata": {
        "id": "1awanJDC2KeF",
        "colab_type": "code",
        "colab": {}
      },
      "source": [
        "batch_size = 64\n",
        "transform = transforms.Compose([\n",
        "  transforms.ToTensor(),              #将数据转换为channel×width×height格式，为了更高效地进行运算\n",
        "  transforms.Normalize((0.1307, ), (0.3081, ))  #均值和标准差，用于数据标准化，这是对MNIST进行计算后得到的结果，已经算好了\n",
        "])\n",
        "\n",
        "train_dataset = datasets.MNIST(root='../dataset/mnist',\n",
        "                train=True, download=True,\n",
        "                transform = transform)\n",
        "train_loader = DataLoader(train_dataset, shuffle=True, batch_size=batch_size)\n",
        "\n",
        "test_dataset = datasets.MNIST(root='../dataset/mnist',\n",
        "                train=False, download=True,\n",
        "                transform = transform)\n",
        "test_loader = DataLoader(test_dataset, shuffle=False, batch_size=batch_size)"
      ],
      "execution_count": 18,
      "outputs": []
    },
    {
      "cell_type": "code",
      "metadata": {
        "id": "_Yqrhr8Z5bc8",
        "colab_type": "code",
        "colab": {
          "base_uri": "https://localhost:8080/",
          "height": 134
        },
        "outputId": "fdbf10bf-005d-4b60-b78a-99b631a51f17"
      },
      "source": [
        "class Net(torch.nn.Module):\n",
        "  def __init__(self):\n",
        "    super(Net, self).__init__()\n",
        "    self.l1 = torch.nn.Linear(784, 512)\n",
        "    self.l2 = torch.nn.Linear(512, 256)\n",
        "    self.l3 = torch.nn.Linear(256, 128)\n",
        "    self.l4 = torch.nn.Linear(128, 64)\n",
        "    self.l5 = torch.nn.Linear(64, 10)\n",
        "\n",
        "  def forward(self, x):\n",
        "    x = x.view(-1, 784)   #数据本身是(N×1×28×28)地Tensor，\n",
        "    x = F.elu(self.l1(x))\n",
        "    x = F.elu(self.l2(x))\n",
        "    x = F.elu(self.l3(x))\n",
        "    x = F.elu(self.l4(x))\n",
        "    return self.l5(x)  #最后一层不做激活\n",
        "\n",
        "model = Net()\n",
        "model.cuda()"
      ],
      "execution_count": 5,
      "outputs": [
        {
          "output_type": "execute_result",
          "data": {
            "text/plain": [
              "Net(\n",
              "  (l1): Linear(in_features=784, out_features=512, bias=True)\n",
              "  (l2): Linear(in_features=512, out_features=256, bias=True)\n",
              "  (l3): Linear(in_features=256, out_features=128, bias=True)\n",
              "  (l4): Linear(in_features=128, out_features=64, bias=True)\n",
              "  (l5): Linear(in_features=64, out_features=10, bias=True)\n",
              ")"
            ]
          },
          "metadata": {
            "tags": []
          },
          "execution_count": 5
        }
      ]
    },
    {
      "cell_type": "code",
      "metadata": {
        "id": "iwVhqumV6lq2",
        "colab_type": "code",
        "colab": {}
      },
      "source": [
        "criterion = torch.nn.CrossEntropyLoss()\n",
        "optimizer = optim.SGD(model.parameters(), lr=0.01, momentum=0.5)  #冲量值设置为0.5，优化训练过程"
      ],
      "execution_count": 11,
      "outputs": []
    },
    {
      "cell_type": "code",
      "metadata": {
        "id": "WYV2GDPp7FND",
        "colab_type": "code",
        "colab": {}
      },
      "source": [
        "def train(epoch):\n",
        "  running_loss = 0.0\n",
        "  for batch_idx, data in enumerate(train_loader, 0):\n",
        "    inputs, target = data\n",
        "    inputs = inputs.cuda()\n",
        "    target = target.cuda()\n",
        "    optimizer.zero_grad()\n",
        "\n",
        "    #forward + backward + update\n",
        "    outputs = model(inputs)\n",
        "    loss = criterion(outputs, target) \n",
        "    loss.backward()\n",
        "    optimizer.step()\n",
        "\n",
        "    running_loss += loss.item()\n",
        "    if batch_idx % 300 ==299:  \n",
        "      #300次迭代输出一次loss\n",
        "      print('[%d, %5d] loss:%.3f' % (epoch + 1, batch_idx + 1, running_loss / 300)) \n",
        "      running_loss= 0.0"
      ],
      "execution_count": 29,
      "outputs": []
    },
    {
      "cell_type": "code",
      "metadata": {
        "id": "sFsPjv4C7rKs",
        "colab_type": "code",
        "colab": {}
      },
      "source": [
        "def test():\n",
        "  correct = 0\n",
        "  total = 0\n",
        "  with torch.no_grad():#该缩进块中的代码不会计算梯度\n",
        "    for data in test_loader:\n",
        "      images, labels = data\n",
        "      images = images.cuda() \n",
        "      labels = labels.cuda()\n",
        "      outputs = model(images)\n",
        "      _, predicted = torch.max(outputs.data, dim=1)\n",
        "      predicted = predicted.cuda() #输出为列数为10，代表十个类别，取出每一行数值最大地那一列的下标，即获得该样本的类别，带下为(N×1)\n",
        "      total += labels.size(0)   #取出的是N\n",
        "      correct += (predicted == labels).sum().item()   #张量之间的比较运算\n",
        "  print('Acc on test set:%d %%' % (100* correct / total))"
      ],
      "execution_count": 38,
      "outputs": []
    },
    {
      "cell_type": "code",
      "metadata": {
        "id": "ParPxGB6AGut",
        "colab_type": "code",
        "colab": {
          "base_uri": "https://localhost:8080/",
          "height": 706
        },
        "outputId": "e8fc6cec-6567-4877-c61f-d41b7a85f5cc"
      },
      "source": [
        "if __name__ == '__main__':\n",
        "  start = time.time()\n",
        "  for epoch in range(10):\n",
        "    train(epoch)\n",
        "    test()\n",
        "  end = time.time()\n",
        "  print(str(end-start) + 's')"
      ],
      "execution_count": 39,
      "outputs": [
        {
          "output_type": "stream",
          "text": [
            "[1,   300] loss:0.179\n",
            "[1,   600] loss:0.171\n",
            "[1,   900] loss:0.155\n",
            "Acc on test set:95 %\n",
            "[2,   300] loss:0.146\n",
            "[2,   600] loss:0.136\n",
            "[2,   900] loss:0.128\n",
            "Acc on test set:95 %\n",
            "[3,   300] loss:0.124\n",
            "[3,   600] loss:0.112\n",
            "[3,   900] loss:0.112\n",
            "Acc on test set:96 %\n",
            "[4,   300] loss:0.103\n",
            "[4,   600] loss:0.102\n",
            "[4,   900] loss:0.096\n",
            "Acc on test set:96 %\n",
            "[5,   300] loss:0.091\n",
            "[5,   600] loss:0.087\n",
            "[5,   900] loss:0.083\n",
            "Acc on test set:96 %\n",
            "[6,   300] loss:0.077\n",
            "[6,   600] loss:0.077\n",
            "[6,   900] loss:0.077\n",
            "Acc on test set:97 %\n",
            "[7,   300] loss:0.064\n",
            "[7,   600] loss:0.071\n",
            "[7,   900] loss:0.068\n",
            "Acc on test set:97 %\n",
            "[8,   300] loss:0.057\n",
            "[8,   600] loss:0.058\n",
            "[8,   900] loss:0.063\n",
            "Acc on test set:97 %\n",
            "[9,   300] loss:0.050\n",
            "[9,   600] loss:0.053\n",
            "[9,   900] loss:0.056\n",
            "Acc on test set:97 %\n",
            "[10,   300] loss:0.046\n",
            "[10,   600] loss:0.047\n",
            "[10,   900] loss:0.048\n",
            "Acc on test set:97 %\n",
            "162.53466486930847s\n"
          ],
          "name": "stdout"
        }
      ]
    }
  ]
}