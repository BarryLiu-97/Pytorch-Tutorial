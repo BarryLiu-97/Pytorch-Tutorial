{
  "nbformat": 4,
  "nbformat_minor": 0,
  "metadata": {
    "colab": {
      "name": "06_Dataset_and_DataLoader.ipynb",
      "provenance": [],
      "collapsed_sections": [],
      "authorship_tag": "ABX9TyMxwOwNnCGLCaggfrW/u6d2",
      "include_colab_link": true
    },
    "kernelspec": {
      "name": "python3",
      "display_name": "Python 3"
    }
  },
  "cells": [
    {
      "cell_type": "markdown",
      "metadata": {
        "id": "view-in-github",
        "colab_type": "text"
      },
      "source": [
        "<a href=\"https://colab.research.google.com/github/BarryLiu-97/Pytorch-Tutorial/blob/master/06_Dataset_and_DataLoader.ipynb\" target=\"_parent\"><img src=\"https://colab.research.google.com/assets/colab-badge.svg\" alt=\"Open In Colab\"/></a>"
      ]
    },
    {
      "cell_type": "markdown",
      "metadata": {
        "id": "MTDG8jv8zATG",
        "colab_type": "text"
      },
      "source": [
        "使用minibatch进行训练\n",
        "\n",
        "梯度下降可以使用的方法：\n",
        "- 所有数据全部都用：利用CPU和GPU的并行计算能力，计算速度较高\n",
        "- 随机梯度下降：只用一个样本，随机性较好，能克服鞍点的问题\n",
        "- MiniBatch: 随机性较好的同时运算速度也较高"
      ]
    },
    {
      "cell_type": "code",
      "metadata": {
        "id": "enAXgpcbYLWM",
        "colab_type": "code",
        "colab": {}
      },
      "source": [
        "import torch\n",
        "from torch.utils.data import Dataset      #Dataset是一个抽象类，抽象类是不能实例化的，只能被其他子类继承\n",
        "from torch.utils.data import DataLoader     #Pytorch帮助我们加载数据的类\n",
        "import numpy as np"
      ],
      "execution_count": 1,
      "outputs": []
    },
    {
      "cell_type": "code",
      "metadata": {
        "id": "aWqtPW7w77f1",
        "colab_type": "code",
        "colab": {}
      },
      "source": [
        "from google.colab import files\n",
        "files.upload() "
      ],
      "execution_count": null,
      "outputs": []
    },
    {
      "cell_type": "code",
      "metadata": {
        "id": "4m4vda_Q1oe2",
        "colab_type": "code",
        "colab": {}
      },
      "source": [
        "class DiabetesDataset(Dataset):\n",
        "  def __init__(self, filepath):\n",
        "    diabetes = np.loadtxt(filepath, delimiter=',', dtype=np.float32)\n",
        "    self.len = diabetes.shape[0]     #数据集有多少个样本，就是有几行数据\n",
        "    self.x_data = torch.from_numpy(diabetes[:,:-1])\n",
        "    self.y_data = torch.from_numpy(diabetes[:,[-1]])\n",
        "\n",
        "  def __getitem__(self, index):\n",
        "    \"\"\"\n",
        "    使得实例化DiabetesDataset之后能够进行下标操作。dataset[index]\n",
        "    \"\"\"\n",
        "    return self.x_data[index], self.y_data[index]   #  return x,y 表示返回的是(x, y)这样的元组\n",
        "\n",
        "  def __len__(self):\n",
        "    \"\"\"\n",
        "    返回数据条数\n",
        "    \"\"\"\n",
        "    return self.len\n",
        "\n",
        "dataset = DiabetesDataset('diabetes.csv')\n",
        "train_loader = DataLoader(dataset=dataset, batch_size=32,\n",
        "              shuffle=True, num_workers=2)   #num_workers表示读取数据的时候是否要多进程，几个进程进行读取"
      ],
      "execution_count": 3,
      "outputs": []
    },
    {
      "cell_type": "code",
      "metadata": {
        "id": "i9HlpuAl8uGi",
        "colab_type": "code",
        "colab": {
          "base_uri": "https://localhost:8080/",
          "height": 50
        },
        "outputId": "e86a3e2d-afac-4749-df6b-79ac6d58f10b"
      },
      "source": [
        "class Model(torch.nn.Module):\n",
        "  def __init__(self):\n",
        "    super(Model, self).__init__()\n",
        "    self.linear1 = torch.nn.Linear(8, 6)\n",
        "    self.linear2 = torch.nn.Linear(6, 4)\n",
        "    self.linear3 = torch.nn.Linear(4, 1)\n",
        "    self.sigmoid = torch.nn.Sigmoid()  #在此处可以更改激活函数\n",
        "\n",
        "  def forward(self, x):\n",
        "    x = self.sigmoid(self.linear1(x))\n",
        "    x = self.sigmoid(self.linear2(x))\n",
        "    x = self.sigmoid(self.linear3(x))  #relu会使得小于0的值输出为0，会有风险，所以最后一层一般不用relu\n",
        "    return x\n",
        "\n",
        "model = Model()\n",
        "\n",
        "criterion = torch.nn.BCELoss(size_average=True)\n",
        "optimizer = torch.optim.SGD(model.parameters(), lr=0.01)"
      ],
      "execution_count": 4,
      "outputs": [
        {
          "output_type": "stream",
          "text": [
            "/usr/local/lib/python3.6/dist-packages/torch/nn/_reduction.py:43: UserWarning: size_average and reduce args will be deprecated, please use reduction='mean' instead.\n",
            "  warnings.warn(warning.format(ret))\n"
          ],
          "name": "stderr"
        }
      ]
    },
    {
      "cell_type": "code",
      "metadata": {
        "id": "-gkng1bs5cco",
        "colab_type": "code",
        "colab": {}
      },
      "source": [
        "for epoch in range(100):\n",
        "  for i, data in enumerate(train_loader, 0):\n",
        "    #1. Prepare data\n",
        "    inputs, labels = data   #都是张量\n",
        "    #2. Forward\n",
        "    y_pred = model(inputs)\n",
        "    loss = criterion(y_pred, labels)\n",
        "    print(epoch, i, loss.item())\n",
        "    #3. Backward\n",
        "    optimizer.zero_grad()\n",
        "    #4. Update\n",
        "    optimizer.step()"
      ],
      "execution_count": null,
      "outputs": []
    }
  ]
}